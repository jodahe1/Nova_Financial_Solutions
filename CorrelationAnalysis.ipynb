{
 "cells": [
  {
   "cell_type": "code",
   "execution_count": 7,
   "id": "f818ac9e-9852-432f-a456-5825ca353746",
   "metadata": {},
   "outputs": [],
   "source": [
    "import pandas as pd\n",
    "import yfinance as yf"
   ]
  },
  {
   "cell_type": "code",
   "execution_count": 2,
   "id": "3fb6c1ff-c854-4526-b342-7f97bf14eddf",
   "metadata": {},
   "outputs": [],
   "source": [
    "# Load the data from CSV\n",
    "data = pd.read_csv(\"C:/Users/huawei/Desktop/Nova_Financial_Solutions/Data/raw_analyst_ratings.csv\")\n"
   ]
  },
  {
   "cell_type": "code",
   "execution_count": 4,
   "id": "8091d84d-56e2-47ef-a3a0-195eda6e6dd6",
   "metadata": {},
   "outputs": [],
   "source": [
    "# Convert the 'date' column to datetime\n",
    "data['date'] = pd.to_datetime(data['date'], format='%Y-%m-%d %H:%M:%S%z', errors='coerce')\n"
   ]
  },
  {
   "cell_type": "code",
   "execution_count": 5,
   "id": "e3c7673b-080d-4052-af5e-f0eba4d2baaa",
   "metadata": {},
   "outputs": [
    {
     "name": "stdout",
     "output_type": "stream",
     "text": [
      "Date Range: 2011-04-27 21:01:48-04:00 - 2020-06-11 17:12:35-04:00\n"
     ]
    }
   ],
   "source": [
    "# Determine the minimum and maximum dates in the dataset\n",
    "min_date = data['date'].min()\n",
    "max_date = data['date'].max()\n",
    "\n",
    "print(\"Date Range: {} - {}\".format(min_date, max_date))"
   ]
  },
  {
   "cell_type": "code",
   "execution_count": 8,
   "id": "00f30019-bfb6-48cb-80df-6b435dd647a4",
   "metadata": {},
   "outputs": [
    {
     "name": "stderr",
     "output_type": "stream",
     "text": [
      "[*********************100%%**********************]  1 of 1 completed"
     ]
    },
    {
     "name": "stdout",
     "output_type": "stream",
     "text": [
      "                 Open       High        Low      Close  Adj Close   Volume\n",
      "Date                                                                      \n",
      "2011-04-28  35.650928  36.151646  35.515022  35.994278  32.349850  3151511\n",
      "2011-04-29  35.979973  36.251789  35.643776  35.701000  32.086269  3312561\n",
      "2011-05-02  35.944206  36.309013  35.779686  36.080112  32.427013  3657867\n",
      "2011-05-03  36.108727  36.251789  35.836910  36.194565  32.529858  3154307\n",
      "2011-05-04  36.165951  36.273247  35.150215  35.407726  31.822687  5215239\n"
     ]
    },
    {
     "name": "stderr",
     "output_type": "stream",
     "text": [
      "\n"
     ]
    }
   ],
   "source": [
    "# Define the stock symbol let's use A \n",
    "stock_symbol = 'A' \n",
    "\n",
    "# Fetch stock data using yfinance\n",
    "stock_data = yf.download(stock_symbol, start=min_date, end=max_date)\n",
    "\n",
    "# Display the stock data\n",
    "print(stock_data.head())"
   ]
  },
  {
   "cell_type": "code",
   "execution_count": 3,
   "id": "c26316fc-06f1-4b19-8c33-7637d5c8806d",
   "metadata": {},
   "outputs": [
    {
     "name": "stdout",
     "output_type": "stream",
     "text": [
      "         Unnamed: 0                                           headline  \\\n",
      "7                 7  Agilent Technologies shares are trading higher...   \n",
      "13               13  Agilent Technologies shares are trading higher...   \n",
      "14               14  Agilent Technologies Q2 Adj. EPS $0.71 Beats $...   \n",
      "18               18  Pershing Square 13F Shows Fund Raises Stake In...   \n",
      "20               20  Shares of several healthcare companies are tra...   \n",
      "...             ...                                                ...   \n",
      "1406650     1413171  The Market In 5 Minutes: US Added Just 38,000 ...   \n",
      "1406664     1413185    The Market In 5 Minutes: Friday, March 11, 2016   \n",
      "1407261     1413782  China Zenix Auto International Announces Inten...   \n",
      "1407262     1413783        China Zenix Auto Shares Halted News Pending   \n",
      "1407263     1413784  China Zenix Auto Q1 EPS $0.08, Made $130.123M ...   \n",
      "\n",
      "                                                       url  \\\n",
      "7        https://www.benzinga.com/wiim/20/05/16093805/a...   \n",
      "13       https://www.benzinga.com/wiim/20/05/16089218/a...   \n",
      "14       https://www.benzinga.com/news/earnings/20/05/1...   \n",
      "18       https://www.benzinga.com/general/hedge-funds/2...   \n",
      "20       https://www.benzinga.com/wiim/20/05/15957697/s...   \n",
      "...                                                    ...   \n",
      "1406650  https://www.benzinga.com/news/16/06/8066502/th...   \n",
      "1406664  https://www.benzinga.com/news/16/03/7666601/th...   \n",
      "1407261  https://www.benzinga.com/news/18/06/11886479/c...   \n",
      "1407262  https://www.benzinga.com/news/18/06/11876679/c...   \n",
      "1407263  https://www.benzinga.com/news/earnings/18/05/1...   \n",
      "\n",
      "                  publisher                       date stock  \n",
      "7         Benzinga Newsdesk  2020-05-22 09:07:04-04:00     A  \n",
      "13        Benzinga Newsdesk        2020-05-21 00:00:00     A  \n",
      "14        Benzinga Newsdesk        2020-05-21 00:00:00     A  \n",
      "18        Benzinga Newsdesk        2020-05-15 00:00:00     A  \n",
      "20        Benzinga Newsdesk        2020-05-05 00:00:00     A  \n",
      "...                     ...                        ...   ...  \n",
      "1406650  Benzinga News Desk        2016-06-03 00:00:00  ZUMZ  \n",
      "1406664  Benzinga News Desk        2016-03-11 00:00:00  ZUMZ  \n",
      "1407261   Benzinga Newsdesk  2018-06-15 09:01:12-04:00    ZX  \n",
      "1407262   Benzinga Newsdesk  2018-06-13 16:52:35-04:00    ZX  \n",
      "1407263   Benzinga Newsdesk  2018-05-17 06:01:41-04:00    ZX  \n",
      "\n",
      "[179109 rows x 6 columns]\n"
     ]
    }
   ],
   "source": [
    "# Filter data for news articles\n",
    "news_data = data[data['publisher'].str.contains('News')]\n",
    "\n",
    "# Display the news data\n",
    "print(news_data)"
   ]
  },
  {
   "cell_type": "code",
   "execution_count": null,
   "id": "d51f940a-74b0-4800-842f-5047a4a3866d",
   "metadata": {},
   "outputs": [],
   "source": []
  }
 ],
 "metadata": {
  "kernelspec": {
   "display_name": "Python 3 (ipykernel)",
   "language": "python",
   "name": "python3"
  },
  "language_info": {
   "codemirror_mode": {
    "name": "ipython",
    "version": 3
   },
   "file_extension": ".py",
   "mimetype": "text/x-python",
   "name": "python",
   "nbconvert_exporter": "python",
   "pygments_lexer": "ipython3",
   "version": "3.11.7"
  }
 },
 "nbformat": 4,
 "nbformat_minor": 5
}
