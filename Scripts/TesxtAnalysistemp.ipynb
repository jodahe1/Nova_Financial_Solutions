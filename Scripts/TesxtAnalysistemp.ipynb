{
 "cells": [
  {
   "cell_type": "code",
   "execution_count": null,
   "id": "873c4588-61f5-46c6-baaa-655480e9cbe3",
   "metadata": {},
   "outputs": [],
   "source": [
    "import pandas as pd\n",
    "import nltk\n",
    "from nltk.corpus import stopwords\n",
    "from nltk.tokenize import word_tokenize\n",
    "from textblob import TextBlob\n",
    "from gensim import corpora, models\n",
    "from pprint import pprint\n",
    "import matplotlib.pyplot as plt"
   ]
  },
  {
   "cell_type": "code",
   "execution_count": null,
   "id": "b27a05b6-6e18-4ff8-b19f-8ab2eb60234a",
   "metadata": {},
   "outputs": [],
   "source": [
    "data = pd.read_csv(\"C:/Users/huawei/Desktop/Nova_Financial_Solutions/Data/raw_analyst_ratings.csv\")\n",
    "headlines = data['headline'].tolist()"
   ]
  },
  {
   "cell_type": "code",
   "execution_count": null,
   "id": "888520ff-9816-4fe4-87d7-b427d4707566",
   "metadata": {},
   "outputs": [],
   "source": [
    "sentiments = []\n",
    "for headline in headlines:\n",
    "    blob = TextBlob(headline)\n",
    "    sentiment = blob.sentiment.polarity\n",
    "    if sentiment > 0:\n",
    "        sentiments.append(\"Positive\")\n",
    "    elif sentiment < 0:\n",
    "        sentiments.append(\"Negative\")\n",
    "    else:\n",
    "        sentiments.append(\"Neutral\")\n",
    "\n",
    "data['sentiment'] = sentiments"
   ]
  },
  {
   "cell_type": "code",
   "execution_count": null,
   "id": "9a219bd0-1e06-4b48-af3d-424bafc9aad8",
   "metadata": {},
   "outputs": [],
   "source": [
    "stop_words = stopwords.words('english')\n",
    "tokenized_headlines = [word_tokenize(headline.lower()) for headline in headlines]\n",
    "cleaned_headlines = [[word for word in headline if word.isalnum() and word not in stop_words] for headline in tokenized_headlines]\n",
    "dictionary = corpora.Dictionary(cleaned_headlines)\n",
    "corpus = [dictionary.doc2bow(headline) for headline in cleaned_headlines]\n",
    "lda_model = models.LdaModel(corpus, num_topics=5, id2word=dictionary, passes=10)\n",
    "topics = lda_model.print_topics(num_words=5)\n",
    "pprint(topics)"
   ]
  },
  {
   "cell_type": "code",
   "execution_count": null,
   "id": "9ada1507-4400-4122-970a-18c3bc3e35a4",
   "metadata": {},
   "outputs": [],
   "source": [
    "sentiment_counts = data['sentiment'].value_counts()\n",
    "plt.bar(sentiment_counts.index, sentiment_counts.values)\n",
    "plt.xlabel('Sentiment')\n",
    "plt.ylabel('Count')\n",
    "plt.title('Distribution of Sentiments in Headlines')\n",
    "plt.show()"
   ]
  },
  {
   "cell_type": "code",
   "execution_count": null,
   "id": "fc0cc2b0-c90c-4673-aede-98a023c8939a",
   "metadata": {},
   "outputs": [],
   "source": [
    "from wordcloud import WordCloud\n",
    "\n",
    "topics_words = [lda_model.show_topic(topic_num, topn=10) for topic_num in range(lda_model.num_topics)]\n",
    "topics_words_flat = [word for topic in topics_words for word, _ in topic]\n",
    "wordcloud = WordCloud(width=800, height=400).generate(' '.join(topics_words_flat))\n",
    "\n",
    "plt.figure(figsize=(12, 6))\n",
    "plt.imshow(wordcloud, interpolation='bilinear')\n",
    "plt.axis('off')\n",
    "plt.title('Word Cloud of Topics')\n",
    "plt.show()"
   ]
  },
  {
   "cell_type": "code",
   "execution_count": null,
   "id": "9891b87b-5c20-4544-b794-f6e839e8c32e",
   "metadata": {},
   "outputs": [],
   "source": []
  }
 ],
 "metadata": {
  "kernelspec": {
   "display_name": "Python 3 (ipykernel)",
   "language": "python",
   "name": "python3"
  },
  "language_info": {
   "codemirror_mode": {
    "name": "ipython",
    "version": 3
   },
   "file_extension": ".py",
   "mimetype": "text/x-python",
   "name": "python",
   "nbconvert_exporter": "python",
   "pygments_lexer": "ipython3",
   "version": "3.11.7"
  }
 },
 "nbformat": 4,
 "nbformat_minor": 5
}
