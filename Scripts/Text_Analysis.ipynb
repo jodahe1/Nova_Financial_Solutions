{
 "cells": [
  {
   "cell_type": "markdown",
   "id": "5f8917fa-675a-40b4-a5ba-c75a618f221a",
   "metadata": {},
   "source": [
    "NoteBook For Text Analysis\n"
   ]
  },
  {
   "cell_type": "code",
   "execution_count": null,
   "id": "d1ce63f2-e187-4f72-9efd-84fcaf259c35",
   "metadata": {},
   "outputs": [],
   "source": [
    "import pandas as pd\n",
    "from nltk.sentiment import SentimentIntensityAnalyzer\n",
    "from nltk.tokenize import word_tokenize\n",
    "from nltk.corpus import stopwords\n",
    "from nltk.probability import FreqDist\n",
    "import nltk\n",
    "nltk.download('vader_lexicon')\n",
    "nltk.download('punkt')\n",
    "nltk.download('stopwords')"
   ]
  },
  {
   "cell_type": "code",
   "execution_count": null,
   "id": "22557c32-4fe4-422d-9e06-8991ac675e92",
   "metadata": {},
   "outputs": [],
   "source": [
    "df  = pd.read_csv(\"C:/Users/huawei/Desktop/Nova_Financial_Solutions/Data/raw_analyst_ratings.csv\")"
   ]
  },
  {
   "cell_type": "code",
   "execution_count": null,
   "id": "75918387-a7ea-4d17-9072-43e1aaf2b2b3",
   "metadata": {},
   "outputs": [],
   "source": [
    "# Display the first few rows of the dataset\n",
    "print(\"First few rows :\")\n",
    "print(df.head())\n",
    "print()"
   ]
  },
  {
   "cell_type": "code",
   "execution_count": null,
   "id": "25a18ac6-9299-4453-8e9d-31ac9a31e004",
   "metadata": {},
   "outputs": [],
   "source": [
    "# Check the shape (number of rows and columns) of The dataset\n",
    "print(\"raw_analyst_ratings:\", df.shape)"
   ]
  },
  {
   "cell_type": "code",
   "execution_count": null,
   "id": "45220b86-9162-47f8-9b75-0afc06021792",
   "metadata": {},
   "outputs": [],
   "source": [
    "sia = SentimentIntensityAnalyzer()\n",
    "\n",
    "sentiments = []\n",
    "for headline in df['headline']:\n",
    "    sentiment_score = sia.polarity_scores(headline)\n",
    "    sentiments.append(sentiment_score)\n",
    "    \n",
    "df['sentiment'] = sentiments"
   ]
  },
  {
   "cell_type": "code",
   "execution_count": null,
   "id": "e204ca1c-1617-4bb1-af79-636e50068ecb",
   "metadata": {},
   "outputs": [],
   "source": [
    "stop_words = set(stopwords.words('english'))\n",
    "keywords = []\n",
    "\n",
    "for headline in df['headline']:\n",
    "    tokens = word_tokenize(headline.lower())\n",
    "    filtered_tokens = [token for token in tokens if token.isalpha() and token not in stop_words]\n",
    "    keywords.extend(filtered_tokens)\n",
    "    \n",
    "fdist = FreqDist(keywords)\n",
    "common_keywords = fdist.most_common(10)"
   ]
  },
  {
   "cell_type": "code",
   "execution_count": null,
   "id": "4451a4f6-4a93-45d4-b8e1-63a8d2365698",
   "metadata": {},
   "outputs": [],
   "source": []
  }
 ],
 "metadata": {
  "kernelspec": {
   "display_name": "Python 3 (ipykernel)",
   "language": "python",
   "name": "python3"
  },
  "language_info": {
   "codemirror_mode": {
    "name": "ipython",
    "version": 3
   },
   "file_extension": ".py",
   "mimetype": "text/x-python",
   "name": "python",
   "nbconvert_exporter": "python",
   "pygments_lexer": "ipython3",
   "version": "3.11.7"
  }
 },
 "nbformat": 4,
 "nbformat_minor": 5
}
