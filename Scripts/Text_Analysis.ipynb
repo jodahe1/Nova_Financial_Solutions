{
 "cells": [
  {
   "cell_type": "markdown",
   "id": "5f8917fa-675a-40b4-a5ba-c75a618f221a",
   "metadata": {},
   "source": [
    "NoteBook For Text Analysis\n"
   ]
  },
  {
   "cell_type": "code",
   "execution_count": 1,
   "id": "d1ce63f2-e187-4f72-9efd-84fcaf259c35",
   "metadata": {},
   "outputs": [],
   "source": [
    "import pandas as pd\n",
    "from nltk.sentiment import SentimentIntensityAnalyzer\n",
    "from nltk.tokenize import word_tokenize\n",
    "from nltk.corpus import stopwords\n",
    "from nltk.probability import FreqDist\n",
    "import nltk\n"
   ]
  },
  {
   "cell_type": "code",
   "execution_count": 2,
   "id": "22557c32-4fe4-422d-9e06-8991ac675e92",
   "metadata": {},
   "outputs": [],
   "source": [
    "df  = pd.read_csv(\"C:/Users/huawei/Desktop/Nova_Financial_Solutions/Data/raw_analyst_ratings.csv\")"
   ]
  },
  {
   "cell_type": "code",
   "execution_count": 3,
   "id": "75918387-a7ea-4d17-9072-43e1aaf2b2b3",
   "metadata": {},
   "outputs": [
    {
     "name": "stdout",
     "output_type": "stream",
     "text": [
      "First few rows :\n",
      "   Unnamed: 0                                           headline  \\\n",
      "0           0            Stocks That Hit 52-Week Highs On Friday   \n",
      "1           1         Stocks That Hit 52-Week Highs On Wednesday   \n",
      "2           2                      71 Biggest Movers From Friday   \n",
      "3           3       46 Stocks Moving In Friday's Mid-Day Session   \n",
      "4           4  B of A Securities Maintains Neutral on Agilent...   \n",
      "\n",
      "                                                 url          publisher  \\\n",
      "0  https://www.benzinga.com/news/20/06/16190091/s...  Benzinga Insights   \n",
      "1  https://www.benzinga.com/news/20/06/16170189/s...  Benzinga Insights   \n",
      "2  https://www.benzinga.com/news/20/05/16103463/7...         Lisa Levin   \n",
      "3  https://www.benzinga.com/news/20/05/16095921/4...         Lisa Levin   \n",
      "4  https://www.benzinga.com/news/20/05/16095304/b...         Vick Meyer   \n",
      "\n",
      "                        date stock  \n",
      "0  2020-06-05 10:30:54-04:00     A  \n",
      "1  2020-06-03 10:45:20-04:00     A  \n",
      "2  2020-05-26 04:30:07-04:00     A  \n",
      "3  2020-05-22 12:45:06-04:00     A  \n",
      "4  2020-05-22 11:38:59-04:00     A  \n",
      "\n"
     ]
    }
   ],
   "source": [
    "# Display the first few rows of the dataset\n",
    "print(\"First few rows :\")\n",
    "print(df.head())\n",
    "print()"
   ]
  },
  {
   "cell_type": "code",
   "execution_count": 4,
   "id": "25a18ac6-9299-4453-8e9d-31ac9a31e004",
   "metadata": {},
   "outputs": [
    {
     "name": "stdout",
     "output_type": "stream",
     "text": [
      "raw_analyst_ratings: (1407328, 6)\n"
     ]
    }
   ],
   "source": [
    "# Check the shape (number of rows and columns) of The dataset\n",
    "print(\"raw_analyst_ratings:\", df.shape)"
   ]
  },
  {
   "cell_type": "code",
   "execution_count": 5,
   "id": "45220b86-9162-47f8-9b75-0afc06021792",
   "metadata": {},
   "outputs": [],
   "source": [
    "sia = SentimentIntensityAnalyzer()\n",
    "\n",
    "sentiments = []\n",
    "for headline in df['headline']:\n",
    "    sentiment_score = sia.polarity_scores(headline)\n",
    "    sentiments.append(sentiment_score)\n",
    "    \n",
    "df['sentiment'] = sentiments"
   ]
  },
  {
   "cell_type": "code",
   "execution_count": 6,
   "id": "e204ca1c-1617-4bb1-af79-636e50068ecb",
   "metadata": {},
   "outputs": [],
   "source": [
    "stop_words = set(stopwords.words('english'))\n",
    "keywords = []\n",
    "\n",
    "for headline in df['headline']:\n",
    "    tokens = word_tokenize(headline.lower())\n",
    "    filtered_tokens = [token for token in tokens if token.isalpha() and token not in stop_words]\n",
    "    keywords.extend(filtered_tokens)\n",
    "    \n",
    "fdist = FreqDist(keywords)\n",
    "common_keywords = fdist.most_common(10)"
   ]
  },
  {
   "cell_type": "code",
   "execution_count": 7,
   "id": "4451a4f6-4a93-45d4-b8e1-63a8d2365698",
   "metadata": {},
   "outputs": [
    {
     "name": "stdout",
     "output_type": "stream",
     "text": [
      "0          {'neg': 0.0, 'neu': 1.0, 'pos': 0.0, 'compound...\n",
      "1          {'neg': 0.0, 'neu': 1.0, 'pos': 0.0, 'compound...\n",
      "2          {'neg': 0.0, 'neu': 1.0, 'pos': 0.0, 'compound...\n",
      "3          {'neg': 0.0, 'neu': 1.0, 'pos': 0.0, 'compound...\n",
      "4          {'neg': 0.0, 'neu': 0.833, 'pos': 0.167, 'comp...\n",
      "                                 ...                        \n",
      "1407323    {'neg': 0.0, 'neu': 0.769, 'pos': 0.231, 'comp...\n",
      "1407324    {'neg': 0.333, 'neu': 0.49, 'pos': 0.176, 'com...\n",
      "1407325    {'neg': 0.0, 'neu': 1.0, 'pos': 0.0, 'compound...\n",
      "1407326    {'neg': 0.0, 'neu': 1.0, 'pos': 0.0, 'compound...\n",
      "1407327    {'neg': 0.0, 'neu': 1.0, 'pos': 0.0, 'compound...\n",
      "Name: sentiment, Length: 1407328, dtype: object\n",
      "[('stocks', 161702), ('vs', 138835), ('eps', 128801), ('est', 122289), ('shares', 114140), ('reports', 108688), ('update', 91645), ('market', 91080), ('earnings', 87183), ('sales', 79528)]\n"
     ]
    }
   ],
   "source": [
    "print(df['sentiment'])\n",
    "print(common_keywords)"
   ]
  },
  {
   "cell_type": "code",
   "execution_count": null,
   "id": "46328e1a-ff61-4b34-99dc-85894650ada5",
   "metadata": {},
   "outputs": [],
   "source": []
  }
 ],
 "metadata": {
  "kernelspec": {
   "display_name": "Python 3 (ipykernel)",
   "language": "python",
   "name": "python3"
  },
  "language_info": {
   "codemirror_mode": {
    "name": "ipython",
    "version": 3
   },
   "file_extension": ".py",
   "mimetype": "text/x-python",
   "name": "python",
   "nbconvert_exporter": "python",
   "pygments_lexer": "ipython3",
   "version": "3.11.7"
  }
 },
 "nbformat": 4,
 "nbformat_minor": 5
}
