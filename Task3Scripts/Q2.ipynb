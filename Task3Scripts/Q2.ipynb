{
 "cells": [
  {
   "cell_type": "code",
   "execution_count": null,
   "id": "7a5e5493-c34c-4656-8537-b6c08c811137",
   "metadata": {},
   "outputs": [],
   "source": [
    "import pynance as pn\n",
    "import pandas as pd\n",
    "import talib\n",
    "import matplotlib.pyplot as plt\n",
    "import seaborn as sns"
   ]
  },
  {
   "cell_type": "code",
   "execution_count": null,
   "id": "27d79c52-74fd-4585-98cc-aa56b1b92141",
   "metadata": {},
   "outputs": [],
   "source": [
    "# Load the data from CSV\n",
    "df = pd.read_csv(\"C:/Users/huawei/Desktop/Nova_Financial_Solutions/Data/raw_analyst_ratings.csv\")\n"
   ]
  },
  {
   "cell_type": "code",
   "execution_count": null,
   "id": "c079dbfb-464d-4277-b9f7-8c33f83e4594",
   "metadata": {},
   "outputs": [],
   "source": [
    "\n",
    "# Data Preprocessing\n",
    "df['date'] = pd.to_datetime(df['date'])  # Convert date column to datetime format\n",
    "df = df.dropna()  # Drop rows with missing values\n"
   ]
  },
  {
   "cell_type": "code",
   "execution_count": null,
   "id": "7af41be2-9ae3-4cf8-9eb4-474fa9d89bd3",
   "metadata": {},
   "outputs": [],
   "source": [
    "# Technical Indicators\n",
    "df['sma'] = talib.SMA(df['stock'])  # Simple Moving Average\n",
    "df['ema'] = talib.EMA(df['stock'])  # Exponential Moving Average\n",
    "df['rsi'] = talib.RSI(df['stock'])  # Relative Strength Index\n",
    "df['macd'], _, _ = talib.MACD(df['stock'])  # Moving Average Convergence Divergence\n",
    "upper, middle, lower = talib.BBANDS(df['stock'])  # Bollinger Bands\n",
    "df['bb_upper'] = upper\n",
    "df['bb_middle'] = middle\n",
    "df['bb_lower'] = lower"
   ]
  },
  {
   "cell_type": "code",
   "execution_count": null,
   "id": "7a1d9612-90cd-4116-a201-f323bab9fe35",
   "metadata": {},
   "outputs": [],
   "source": [
    "# Visualization\n",
    "plt.figure(figsize=(12, 6))\n",
    "plt.plot(df['date'], df['stock'], label='Stock Price')\n",
    "plt.plot(df['date'], df['sma'], label='SMA')\n",
    "plt.plot(df['date'], df['ema'], label='EMA')\n",
    "plt.legend()\n",
    "plt.title('Stock Price with Moving Averages')\n",
    "plt.xlabel('Date')\n",
    "plt.ylabel('Price')\n",
    "plt.show()"
   ]
  },
  {
   "cell_type": "code",
   "execution_count": null,
   "id": "d51da0cb-6bdd-46e8-a968-85c35d005f6a",
   "metadata": {},
   "outputs": [],
   "source": [
    "\n",
    "# Statistical Analysis\n",
    "mean_price = df['stock'].mean()\n",
    "std_price = df['stock'].std()\n",
    "correlation = df[['stock', 'sma', 'rsi']].corr()\n",
    "\n",
    "print(\"Mean Price:\", mean_price)\n",
    "print(\"Standard Deviation:\", std_price)\n",
    "print(\"Correlation Matrix:\")\n",
    "print(correlation)"
   ]
  }
 ],
 "metadata": {
  "kernelspec": {
   "display_name": "Python 3 (ipykernel)",
   "language": "python",
   "name": "python3"
  },
  "language_info": {
   "codemirror_mode": {
    "name": "ipython",
    "version": 3
   },
   "file_extension": ".py",
   "mimetype": "text/x-python",
   "name": "python",
   "nbconvert_exporter": "python",
   "pygments_lexer": "ipython3",
   "version": "3.11.7"
  }
 },
 "nbformat": 4,
 "nbformat_minor": 5
}
